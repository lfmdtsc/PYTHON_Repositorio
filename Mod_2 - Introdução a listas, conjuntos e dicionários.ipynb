{
  "nbformat": 4,
  "nbformat_minor": 0,
  "metadata": {
    "colab": {
      "name": "modulo_2_exercicios.ipynb",
      "provenance": [],
      "collapsed_sections": []
    },
    "kernelspec": {
      "name": "python3",
      "display_name": "Python 3"
    }
  },
  "cells": [
    {
      "cell_type": "markdown",
      "metadata": {
        "id": "KJqp9AANOCtf"
      },
      "source": [
        "<img src=\"https://raw.githubusercontent.com/andre-marcos-perez/ebac-course-utils/main/media/logo/newebac_logo_black_half.png\" alt=\"ebac-logo\">\n",
        "\n",
        "---\n",
        "\n",
        "# **Módulo 02** | Python: Estruturas de Dados\n",
        "Caderno de **Exercícios**<br> \n",
        "Professor [André Perez](https://www.linkedin.com/in/andremarcosperez/)\n",
        "\n",
        "---"
      ]
    },
    {
      "cell_type": "markdown",
      "source": [
        "**Aluno: Luccas Feuchard Mansur**"
      ],
      "metadata": {
        "id": "x8cCHm_BHdAE"
      }
    },
    {
      "cell_type": "markdown",
      "metadata": {
        "id": "d9jDtUbDOE1-"
      },
      "source": [
        "# **Tópicos**\n",
        "\n",
        "<ol type=\"1\">\n",
        "  <li>Listas;</li>\n",
        "  <li>Conjuntos;</li>\n",
        "  <li>Dicionários.</li>\n",
        "</ol>"
      ]
    },
    {
      "cell_type": "markdown",
      "metadata": {
        "id": "SmoHgt-lwkpD"
      },
      "source": [
        "---"
      ]
    },
    {
      "cell_type": "markdown",
      "metadata": {
        "id": "GABI6OW8OfQ2"
      },
      "source": [
        "# **Exercícios**"
      ]
    },
    {
      "cell_type": "markdown",
      "metadata": {
        "id": "muD1vxozykSC"
      },
      "source": [
        "## 1\\. Listas"
      ]
    },
    {
      "cell_type": "markdown",
      "metadata": {
        "id": "ahrFfCuBxJKs"
      },
      "source": [
        "Criei uma lista chamada `filmes` com o nome dos 10 primeiros filmes mais bem avaliados no site no [IMDB](https://www.imdb.com/chart/top/). Imprima o resultado."
      ]
    },
    {
      "cell_type": "code",
      "metadata": {
        "id": "OgL6Hv3bzOHI",
        "colab": {
          "base_uri": "https://localhost:8080/"
        },
        "outputId": "c340b902-11fb-4c8b-b78a-0bfdab960f30"
      },
      "source": [
        "filmes = ['Um Sonho de Liberdade' , 'O Poderoso Chefão' , 'Batman: O Cavaleiro das Trevas' , 'O Poderoso Chefão II' , '12 Homens e uma Sentença' , 'A Lista de Schindler'  , 'O Senhor dos Anéis: O Retorno do Rei' , 'Pulp Fiction: Tempo de Violência' , 'O Senhor dos Anéis: A Sociedade do Anel' , 'Três Homens em Conflito']\n",
        "print(filmes)\n",
        "print(type(filmes))"
      ],
      "execution_count": 2,
      "outputs": [
        {
          "output_type": "stream",
          "name": "stdout",
          "text": [
            "['Um Sonho de Liberdade', 'O Poderoso Chefão', 'Batman: O Cavaleiro das Trevas', 'O Poderoso Chefão II', '12 Homens e uma Sentença', 'A Lista de Schindler', 'O Senhor dos Anéis: O Retorno do Rei', 'Pulp Fiction: Tempo de Violência', 'O Senhor dos Anéis: A Sociedade do Anel', 'Três Homens em Conflito']\n",
            "<class 'list'>\n"
          ]
        }
      ]
    },
    {
      "cell_type": "markdown",
      "metadata": {
        "id": "KI9zQRT2xa7m"
      },
      "source": [
        "Simule a movimentação do *ranking*. Utilize os métodos `insert` e `pop` para trocar a posição do primeiro e do segundo filme da lista. Imprima o resultado.\n",
        "\n"
      ]
    },
    {
      "cell_type": "code",
      "metadata": {
        "id": "zX3mA3_GzrXH",
        "colab": {
          "base_uri": "https://localhost:8080/"
        },
        "outputId": "6cacab0b-ffa4-47cb-dde4-764f3a56054a"
      },
      "source": [
        "filmes = ['Um Sonho de Liberdade' , 'O Poderoso Chefão' , 'Batman: O Cavaleiro das Trevas' , 'O Poderoso Chefão II' , '12 Homens e uma Sentença' , 'A Lista de Schindler'  , 'O Senhor dos Anéis: O Retorno do Rei' , 'Pulp Fiction: Tempo de Violência' , 'O Senhor dos Anéis: A Sociedade do Anel' , 'Três Homens em Conflito']\n",
        "print('Lista Antiga:  ' + str(filmes))\n",
        "filmes.pop(0)\n",
        "filmes.insert(1, 'Um Sonho de Liberdade')\n",
        "print('Lista Atualizada:  ' + str(filmes))\n",
        "print(type(filmes))"
      ],
      "execution_count": 11,
      "outputs": [
        {
          "output_type": "stream",
          "name": "stdout",
          "text": [
            "Lista Antiga:  ['Um Sonho de Liberdade', 'O Poderoso Chefão', 'Batman: O Cavaleiro das Trevas', 'O Poderoso Chefão II', '12 Homens e uma Sentença', 'A Lista de Schindler', 'O Senhor dos Anéis: O Retorno do Rei', 'Pulp Fiction: Tempo de Violência', 'O Senhor dos Anéis: A Sociedade do Anel', 'Três Homens em Conflito']\n",
            "Lista Atualizada:  ['O Poderoso Chefão', 'Um Sonho de Liberdade', 'Batman: O Cavaleiro das Trevas', 'O Poderoso Chefão II', '12 Homens e uma Sentença', 'A Lista de Schindler', 'O Senhor dos Anéis: O Retorno do Rei', 'Pulp Fiction: Tempo de Violência', 'O Senhor dos Anéis: A Sociedade do Anel', 'Três Homens em Conflito']\n",
            "<class 'list'>\n"
          ]
        }
      ]
    },
    {
      "cell_type": "markdown",
      "metadata": {
        "id": "zMN1Q3jdwoJm"
      },
      "source": [
        "---"
      ]
    },
    {
      "cell_type": "markdown",
      "metadata": {
        "id": "lxa5L6uF0ZJE"
      },
      "source": [
        "## 2\\. Conjuntos"
      ]
    },
    {
      "cell_type": "markdown",
      "metadata": {
        "id": "9JahS2Kj0d5u"
      },
      "source": [
        "Aconteceu um erro no seu *ranking*. Simule a duplicação dos três últimos filmes da lista. Imprima o resultado."
      ]
    },
    {
      "cell_type": "code",
      "metadata": {
        "id": "BnjnLBNC6PGe",
        "colab": {
          "base_uri": "https://localhost:8080/"
        },
        "outputId": "d2f81471-a0af-4a20-f9f7-063efdd9a441"
      },
      "source": [
        "filmes = ['Um Sonho de Liberdade' , 'O Poderoso Chefão' , 'Batman: O Cavaleiro das Trevas' , 'O Poderoso Chefão II' , '12 Homens e uma Sentença' , 'A Lista de Schindler'  , 'O Senhor dos Anéis: O Retorno do Rei' , 'Pulp Fiction: Tempo de Violência' , 'O Senhor dos Anéis: A Sociedade do Anel' , 'Três Homens em Conflito']\n",
        "filmes.append('Pulp Fiction: Tempo de Violência')\n",
        "filmes.append('O Senhor dos Anéis: A Sociedade do Anel')\n",
        "filmes.append('Três Homens em Conflito')\n",
        "print(filmes)\n",
        "print(type(filmes))"
      ],
      "execution_count": 12,
      "outputs": [
        {
          "output_type": "stream",
          "name": "stdout",
          "text": [
            "['Um Sonho de Liberdade', 'O Poderoso Chefão', 'Batman: O Cavaleiro das Trevas', 'O Poderoso Chefão II', '12 Homens e uma Sentença', 'A Lista de Schindler', 'O Senhor dos Anéis: O Retorno do Rei', 'Pulp Fiction: Tempo de Violência', 'O Senhor dos Anéis: A Sociedade do Anel', 'Três Homens em Conflito', 'Pulp Fiction: Tempo de Violência', 'O Senhor dos Anéis: A Sociedade do Anel', 'Três Homens em Conflito']\n",
            "<class 'list'>\n"
          ]
        }
      ]
    },
    {
      "cell_type": "markdown",
      "metadata": {
        "id": "suxTfCJB6ZiX"
      },
      "source": [
        "Utiliza a conversão `set` e `list` para remover os valores duplicados. Imprima o resultado. "
      ]
    },
    {
      "cell_type": "code",
      "metadata": {
        "id": "ZvUGN-0n6joM",
        "colab": {
          "base_uri": "https://localhost:8080/"
        },
        "outputId": "f00a41d5-0670-4994-ce04-9cd85e20e808"
      },
      "source": [
        "ranking_imdb = set(filmes)\n",
        "print(ranking_imdb)\n",
        "print(type(ranking_imdb))\n",
        "ranking_imdb = list(ranking_imdb)\n",
        "print(ranking_imdb)\n",
        "print(type(ranking_imdb))"
      ],
      "execution_count": 20,
      "outputs": [
        {
          "output_type": "stream",
          "name": "stdout",
          "text": [
            "{'O Poderoso Chefão', 'O Senhor dos Anéis: A Sociedade do Anel', 'O Poderoso Chefão II', 'Pulp Fiction: Tempo de Violência', 'Três Homens em Conflito', 'Um Sonho de Liberdade', '12 Homens e uma Sentença', 'O Senhor dos Anéis: O Retorno do Rei', 'Batman: O Cavaleiro das Trevas', 'A Lista de Schindler'}\n",
            "<class 'set'>\n",
            "['O Poderoso Chefão', 'O Senhor dos Anéis: A Sociedade do Anel', 'O Poderoso Chefão II', 'Pulp Fiction: Tempo de Violência', 'Três Homens em Conflito', 'Um Sonho de Liberdade', '12 Homens e uma Sentença', 'O Senhor dos Anéis: O Retorno do Rei', 'Batman: O Cavaleiro das Trevas', 'A Lista de Schindler']\n",
            "<class 'list'>\n"
          ]
        }
      ]
    },
    {
      "cell_type": "markdown",
      "metadata": {
        "id": "ShkK35eQ6pAM"
      },
      "source": [
        "---"
      ]
    },
    {
      "cell_type": "markdown",
      "metadata": {
        "id": "EL_FzmxL6rTv"
      },
      "source": [
        "## 3\\. Dicionários"
      ]
    },
    {
      "cell_type": "markdown",
      "metadata": {
        "id": "i8l0gFqRCpfT"
      },
      "source": [
        "Repita os exercícios da parte 1 (listas). Os elementos da lista `filmes` devem ser dicionários no seguinte formato: `{'nome': <nome-do-filme>, 'ano': <ano do filme>}, 'sinopse': <sinopse do filme>}`. "
      ]
    },
    {
      "cell_type": "code",
      "source": [
        "filmes = {\n",
        "    'Posição 01' : {\n",
        "        'nome' : 'Um Sonho de Liberdade' ,\n",
        "        'ano' : '1994' ,\n",
        "        'sinopse' : 'Dois homens presos se reúnem ao longo de vários anos, encontrando consolo e eventual redenção através de atos de decência comum.',\n",
        "         },\n",
        "     'Posição 02' : {\n",
        "        'nome' : 'O Poderoso Chefão' ,\n",
        "        'ano' : '1972' ,\n",
        "        'sinopse' : 'O patriarca idoso de uma dinastia do crime organizado transfere o controle de seu império clandestino para seu filho relutante.',\n",
        "         },\n",
        "     'Posição 03' : {\n",
        "        'nome' : 'Batman: O Cavaleiro das Trevas' ,\n",
        "        'ano' : '2008' ,\n",
        "        'sinopse' : 'Quando a ameaça conhecida como O Coringa surge de seu passado, causa estragos e caos nas pessoas de Gotham. O Cavaleiro das Trevas deve aceitar um dos maiores testes para combater a injustiç...',\n",
        "         }, \n",
        "     'Posição 04' : {\n",
        "        'nome' : 'O Poderoso Chefão II' ,\n",
        "        'ano' : '1974' ,\n",
        "        'sinopse' : 'Em 1950, Michael Corleone, agora à frente da família, tenta expandir o negócio do crime a Las Vegas, Los Angeles e Cuba. Paralelamente, é revelada a história de Vito Corleone, e de como saiu...',\n",
        "         }, \n",
        "     'Posição 05' : {\n",
        "        'nome' : '12 Homens e uma Sentença' ,\n",
        "        'ano' : '1957' ,\n",
        "        'sinopse' : 'Um jurado que se aposenta tenta evitar um erro judicial forçando seus colegas a reconsiderarem as evidências.',\n",
        "         }, \n",
        "     'Posição 06' : {\n",
        "        'nome' : 'A Lista de Schindler' ,\n",
        "        'ano' : '1993' ,\n",
        "        'sinopse' : 'Depois de testemunhar a perseguição dos judaicos na Polônia ocupada pelos alemães durante a Segunda Guerra Mundial, o industrial Oskar Schindler se começa a preocupar com sua força de trabal...',\n",
        "         },  \n",
        "     'Posição 07' : {\n",
        "        'nome' : 'O Senhor dos Anéis: O Retorno do Rei' ,\n",
        "        'ano' : '2003' ,\n",
        "        'sinopse' : 'Gandalf e Aragorn lideram o Mundo dos Homens contra o exército de Sauron para desviar o olhar de Frodo e Sam quando eles se aproximam á Montanha da Perdição com o Um Anel.',\n",
        "         },   \n",
        "     'Posição 08' : {\n",
        "        'nome' : 'Pulp Fiction: Tempo de Violência' ,\n",
        "        'ano' : '1994' ,\n",
        "        'sinopse' : 'As vidas de dois assassinos da máfia, um boxeador, um gângster e sua esposa, e um par de bandidos se entrelaçam em quatro histórias de violência e redenção.',\n",
        "         }, \n",
        "      'Posição 09' : {\n",
        "        'nome' : 'O Senhor dos Anéis: A Sociedade do Anel' ,\n",
        "        'ano' : '2001' ,\n",
        "        'sinopse' : 'Um manso hobbit do Condado e oito companheiros partem em uma jornada para destruir o poderoso Um Anel e salvar a Terra-média das Trevas.',\n",
        "         },   \n",
        "      'Posição 10' : {\n",
        "        'nome' : 'Três Homens em Conflito' ,\n",
        "        'ano' : '1966' ,\n",
        "        'sinopse' : 'Um impostor se junta com dois homens para encontrar fortuna num remoto cemitério.',\n",
        "         },                 \n",
        "     } \n",
        "\n",
        "print(filmes)\n",
        "print(type(filmes))"
      ],
      "metadata": {
        "colab": {
          "base_uri": "https://localhost:8080/"
        },
        "id": "-6mpaSUYCOzS",
        "outputId": "6242a35f-643a-426c-d856-f5f2d47990f1"
      },
      "execution_count": 37,
      "outputs": [
        {
          "output_type": "stream",
          "name": "stdout",
          "text": [
            "{'Posição 01': {'nome': 'Um Sonho de Liberdade', 'ano': '1994', 'sinopse': 'Dois homens presos se reúnem ao longo de vários anos, encontrando consolo e eventual redenção através de atos de decência comum.'}, 'Posição 02': {'nome': 'O Poderoso Chefão', 'ano': '1972', 'sinopse': 'O patriarca idoso de uma dinastia do crime organizado transfere o controle de seu império clandestino para seu filho relutante.'}, 'Posição 03': {'nome': 'Batman: O Cavaleiro das Trevas', 'ano': '2008', 'sinopse': 'Quando a ameaça conhecida como O Coringa surge de seu passado, causa estragos e caos nas pessoas de Gotham. O Cavaleiro das Trevas deve aceitar um dos maiores testes para combater a injustiç...'}, 'Posição 04': {'nome': 'O Poderoso Chefão II', 'ano': '1974', 'sinopse': 'Em 1950, Michael Corleone, agora à frente da família, tenta expandir o negócio do crime a Las Vegas, Los Angeles e Cuba. Paralelamente, é revelada a história de Vito Corleone, e de como saiu...'}, 'Posição 05': {'nome': '12 Homens e uma Sentença', 'ano': '1957', 'sinopse': 'Um jurado que se aposenta tenta evitar um erro judicial forçando seus colegas a reconsiderarem as evidências.'}, 'Posição 06': {'nome': 'A Lista de Schindler', 'ano': '1993', 'sinopse': 'Depois de testemunhar a perseguição dos judaicos na Polônia ocupada pelos alemães durante a Segunda Guerra Mundial, o industrial Oskar Schindler se começa a preocupar com sua força de trabal...'}, 'Posição 07': {'nome': 'O Senhor dos Anéis: O Retorno do Rei', 'ano': '2003', 'sinopse': 'Gandalf e Aragorn lideram o Mundo dos Homens contra o exército de Sauron para desviar o olhar de Frodo e Sam quando eles se aproximam á Montanha da Perdição com o Um Anel.'}, 'Posição 08': {'nome': 'Pulp Fiction: Tempo de Violência', 'ano': '1994', 'sinopse': 'As vidas de dois assassinos da máfia, um boxeador, um gângster e sua esposa, e um par de bandidos se entrelaçam em quatro histórias de violência e redenção.'}, 'Posição 09': {'nome': 'O Senhor dos Anéis: A Sociedade do Anel', 'ano': '2001', 'sinopse': 'Um manso hobbit do Condado e oito companheiros partem em uma jornada para destruir o poderoso Um Anel e salvar a Terra-média das Trevas.'}, 'Posição 10': {'nome': 'Três Homens em Conflito', 'ano': '1966', 'sinopse': 'Um impostor se junta com dois homens para encontrar fortuna num remoto cemitério.'}}\n",
            "<class 'dict'>\n"
          ]
        }
      ]
    },
    {
      "cell_type": "code",
      "source": [
        "filmes['Posição 08']['nome']"
      ],
      "metadata": {
        "colab": {
          "base_uri": "https://localhost:8080/",
          "height": 35
        },
        "id": "YH6NzgULHQCO",
        "outputId": "2c414927-ac46-45da-c0ef-99805911e025"
      },
      "execution_count": 39,
      "outputs": [
        {
          "output_type": "execute_result",
          "data": {
            "text/plain": [
              "'Pulp Fiction: Tempo de Violência'"
            ],
            "application/vnd.google.colaboratory.intrinsic+json": {
              "type": "string"
            }
          },
          "metadata": {},
          "execution_count": 39
        }
      ]
    },
    {
      "cell_type": "code",
      "source": [
        "filmes['Posição 08']['ano']"
      ],
      "metadata": {
        "colab": {
          "base_uri": "https://localhost:8080/",
          "height": 35
        },
        "id": "EKhhUvGIHClD",
        "outputId": "0e2fad52-1878-4a37-d239-aef687efaaac"
      },
      "execution_count": 38,
      "outputs": [
        {
          "output_type": "execute_result",
          "data": {
            "text/plain": [
              "'1994'"
            ],
            "application/vnd.google.colaboratory.intrinsic+json": {
              "type": "string"
            }
          },
          "metadata": {},
          "execution_count": 38
        }
      ]
    },
    {
      "cell_type": "code",
      "source": [
        "filmes['Posição 08']['sinopse']"
      ],
      "metadata": {
        "colab": {
          "base_uri": "https://localhost:8080/",
          "height": 53
        },
        "id": "VCKRSdKYHWQe",
        "outputId": "6558e16b-294b-4bab-f0ff-b89613c01ffe"
      },
      "execution_count": 40,
      "outputs": [
        {
          "output_type": "execute_result",
          "data": {
            "text/plain": [
              "'As vidas de dois assassinos da máfia, um boxeador, um gângster e sua esposa, e um par de bandidos se entrelaçam em quatro histórias de violência e redenção.'"
            ],
            "application/vnd.google.colaboratory.intrinsic+json": {
              "type": "string"
            }
          },
          "metadata": {},
          "execution_count": 40
        }
      ]
    }
  ]
}